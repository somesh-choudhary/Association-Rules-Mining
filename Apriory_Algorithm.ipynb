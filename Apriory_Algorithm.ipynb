{
 "cells": [
  {
   "cell_type": "code",
   "execution_count": 50,
   "metadata": {},
   "outputs": [],
   "source": [
    "import numpy as np\n",
    "import itertools\n",
    "import copy as cp"
   ]
  },
  {
   "cell_type": "code",
   "execution_count": 2,
   "metadata": {},
   "outputs": [
    {
     "name": "stdout",
     "output_type": "stream",
     "text": [
      "['MILK', 'BREAD', 'BISCUIT']\n",
      "['BREAD', 'MILK', 'BISCUIT', 'CORNFLAKES']\n",
      "['BREAD', 'TEA', 'BOURNVITA']\n",
      "['JAM', 'MAGGI', 'BREAD', 'MILK']\n",
      "['MAGGI', 'TEA', 'BISCUIT']\n",
      "['BREAD', 'TEA', 'BOURNVITA']\n",
      "['MAGGI', 'TEA', 'CORNFLAKES']\n",
      "['MAGGI', 'BREAD', 'TEA', 'BISCUIT']\n",
      "['JAM', 'MAGGI', 'BREAD', 'TEA']\n",
      "['BREAD', 'MILK']\n",
      "['COFFEE', 'COCK', 'BISCUIT', 'CORNFLAKES']\n",
      "['COFFEE', 'COCK', 'BISCUIT', 'CORNFLAKES']\n",
      "['COFFEE', 'SUGER', 'BOURNVITA']\n",
      "['BREAD', 'COFFEE', 'COCK']\n",
      "['BREAD', 'SUGER', 'BISCUIT']\n",
      "['COFFEE', 'SUGER', 'CORNFLAKES']\n",
      "['BREAD', 'SUGER', 'BOURNVITA']\n",
      "['BREAD', 'COFFEE', 'SUGER']\n",
      "['BREAD', 'COFFEE', 'SUGER']\n",
      "['TEA', 'MILK', 'COFFEE', 'CORNFLAKES']\n"
     ]
    }
   ],
   "source": [
    "f= open(\"GroceryStoreDataSet.csv\",\"r\")\n",
    "for line in f.readlines():\n",
    "    line = line.strip()\n",
    "    line =line.replace('\"','')\n",
    "    print(line.split(','))"
   ]
  },
  {
   "cell_type": "code",
   "execution_count": 51,
   "metadata": {},
   "outputs": [],
   "source": [
    "def candidate1(filename):\n",
    "    f= open(filename,\"r\")\n",
    "    c1 ={}\n",
    "    l = 0\n",
    "    for line in f.readlines():\n",
    "        l+=1\n",
    "        line = line.strip()\n",
    "        line =line.replace('\"','')\n",
    "        lst = line.split(',')\n",
    "        for item in lst:\n",
    "            count = c1.get(item,0)\n",
    "            c1[item] = count+1\n",
    "    return c1,l"
   ]
  },
  {
   "cell_type": "code",
   "execution_count": 52,
   "metadata": {},
   "outputs": [],
   "source": [
    "def freq(cand,n,support):\n",
    "    l = []\n",
    "    for item in cand:\n",
    "        x = cand[item]/n\n",
    "        if x >= support:\n",
    "            l.append(item)\n",
    "    return l"
   ]
  },
  {
   "cell_type": "code",
   "execution_count": 53,
   "metadata": {},
   "outputs": [],
   "source": [
    "def findsubsets(s, n): \n",
    "    lst = []\n",
    "    for i in itertools.combinations(s, n):\n",
    "        lst.append(frozenset(i))\n",
    "    return lst"
   ]
  },
  {
   "cell_type": "code",
   "execution_count": 54,
   "metadata": {},
   "outputs": [],
   "source": [
    "def pruning(lk,ele):\n",
    "    k = len(ele)-1\n",
    "    subset = findsubsets(ele,k)\n",
    "    for i in subset:\n",
    "        if i not in lk:\n",
    "            return False\n",
    "    return True"
   ]
  },
  {
   "cell_type": "code",
   "execution_count": 55,
   "metadata": {},
   "outputs": [],
   "source": [
    "def gen_cand(lk1):\n",
    "    lk = cp.deepcopy(lk1)\n",
    "    n = len(lk)\n",
    "    lk2 = []\n",
    "    k = len(lk[0])\n",
    "    for i in range(n-1):\n",
    "        lkt1 = list(lk[i])\n",
    "        for j in range(i+1,n):\n",
    "            lkt2 = list(lk[j])\n",
    "            flag =True\n",
    "            for l in range(k-1):\n",
    "                if lkt1[l]!=lkt2[l]:\n",
    "                    flag =False\n",
    "            if flag:\n",
    "                lst = cp.deepcopy(lkt1)\n",
    "                lst.append(lkt2[k-1])\n",
    "                lst = frozenset(lst)\n",
    "                if pruning(lk,lst):\n",
    "                    lk2.append(lst)\n",
    "    return lk2"
   ]
  },
  {
   "cell_type": "code",
   "execution_count": 56,
   "metadata": {},
   "outputs": [],
   "source": [
    "def get_candidate(filename,lk1):\n",
    "    lk = cp.deepcopy(lk1)\n",
    "    f = open(filename,\"r\")\n",
    "    c ={}\n",
    "    l = 0\n",
    "    k = len(lk[0])\n",
    "    for line in f.readlines():\n",
    "        l+=1\n",
    "        line = line.strip()\n",
    "        line =line.replace('\"','')\n",
    "        lst = line.split(',')\n",
    "        subset = findsubsets(lst,k)\n",
    "        for i in lk:\n",
    "            #i_t = tuple(i)\n",
    "            if i in subset:\n",
    "                count = c.get(i,0)\n",
    "                c[i]=count+1\n",
    "    return c"
   ]
  },
  {
   "cell_type": "code",
   "execution_count": 57,
   "metadata": {},
   "outputs": [],
   "source": [
    "def Apriory(filename,support=0.35):\n",
    "    freq_set = []\n",
    "    cand1,n = candidate1('GroceryStoreDataSet.csv')\n",
    "    l1 = freq(cand1,n,support)\n",
    "    for i in l1:\n",
    "        freq_set.append(frozenset({i}))\n",
    "    c2 = findsubsets(l1,2)\n",
    "    while len(c2)!=0:\n",
    "        cand = get_candidate(filename,c2)\n",
    "        l2 = freq(cand,n,support)\n",
    "        if len(l2)==0:\n",
    "            break\n",
    "        for i in l2:\n",
    "            freq_set.append(i)\n",
    "        c2 = gen_cand(l2)\n",
    "    return freq_set"
   ]
  },
  {
   "cell_type": "code",
   "execution_count": 79,
   "metadata": {},
   "outputs": [
    {
     "name": "stdout",
     "output_type": "stream",
     "text": [
      "Frequent Sets is/are :  [['MILK'], ['BREAD'], ['BISCUIT'], ['CORNFLAKES'], ['TEA'], ['BOURNVITA'], ['MAGGI'], ['COFFEE'], ['SUGER'], ['BREAD', 'MILK'], ['BISCUIT', 'BREAD'], ['TEA', 'BREAD'], ['MAGGI', 'TEA'], ['COFFEE', 'CORNFLAKES'], ['COFFEE', 'SUGER'], ['SUGER', 'BREAD']]\n"
     ]
    }
   ],
   "source": [
    "if __name__ == '__main__':\n",
    "    freq_set = Apriory('GroceryStoreDataSet.csv',support=0.2)\n",
    "    print('Frequent Sets is/are : ',[list(x) for x in freq_set])"
   ]
  },
  {
   "cell_type": "code",
   "execution_count": null,
   "metadata": {},
   "outputs": [],
   "source": []
  },
  {
   "cell_type": "code",
   "execution_count": null,
   "metadata": {},
   "outputs": [],
   "source": []
  },
  {
   "cell_type": "code",
   "execution_count": null,
   "metadata": {},
   "outputs": [],
   "source": []
  }
 ],
 "metadata": {
  "kernelspec": {
   "display_name": "Python 3",
   "language": "python",
   "name": "python3"
  },
  "language_info": {
   "codemirror_mode": {
    "name": "ipython",
    "version": 3
   },
   "file_extension": ".py",
   "mimetype": "text/x-python",
   "name": "python",
   "nbconvert_exporter": "python",
   "pygments_lexer": "ipython3",
   "version": "3.7.3"
  }
 },
 "nbformat": 4,
 "nbformat_minor": 2
}
